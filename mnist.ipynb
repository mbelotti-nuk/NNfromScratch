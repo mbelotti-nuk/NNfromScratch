{
 "cells": [
  {
   "cell_type": "code",
   "execution_count": 1,
   "metadata": {},
   "outputs": [],
   "source": [
    "import numpy as np\n",
    "import pandas as pd\n",
    "from neural_net.loss import CrossEntropyLoss\n",
    "from neural_net.modules import NeuralLayer\n",
    "from neural_net.activations import Relu, Sigmoid\n",
    "from neural_net.networks import ANN\n",
    "from neural_net.base import Tensor\n",
    "from PIL import Image\n",
    "import io\n",
    "import matplotlib.pyplot as plt\n",
    "import copy\n",
    "from tqdm import tqdm"
   ]
  },
  {
   "cell_type": "code",
   "execution_count": 2,
   "metadata": {},
   "outputs": [],
   "source": [
    "splits = {'train': 'mnist/train-00000-of-00001.parquet', 'test': 'mnist/test-00000-of-00001.parquet'}\n",
    "df = pd.read_parquet(\"hf://datasets/ylecun/mnist/\" + splits[\"train\"])"
   ]
  },
  {
   "cell_type": "code",
   "execution_count": 3,
   "metadata": {},
   "outputs": [
    {
     "data": {
      "text/html": [
       "<div>\n",
       "<style scoped>\n",
       "    .dataframe tbody tr th:only-of-type {\n",
       "        vertical-align: middle;\n",
       "    }\n",
       "\n",
       "    .dataframe tbody tr th {\n",
       "        vertical-align: top;\n",
       "    }\n",
       "\n",
       "    .dataframe thead th {\n",
       "        text-align: right;\n",
       "    }\n",
       "</style>\n",
       "<table border=\"1\" class=\"dataframe\">\n",
       "  <thead>\n",
       "    <tr style=\"text-align: right;\">\n",
       "      <th></th>\n",
       "      <th>image</th>\n",
       "      <th>label</th>\n",
       "    </tr>\n",
       "  </thead>\n",
       "  <tbody>\n",
       "    <tr>\n",
       "      <th>0</th>\n",
       "      <td>{'bytes': b'\\x89PNG\\r\\n\\x1a\\n\\x00\\x00\\x00\\rIHD...</td>\n",
       "      <td>5</td>\n",
       "    </tr>\n",
       "    <tr>\n",
       "      <th>1</th>\n",
       "      <td>{'bytes': b'\\x89PNG\\r\\n\\x1a\\n\\x00\\x00\\x00\\rIHD...</td>\n",
       "      <td>0</td>\n",
       "    </tr>\n",
       "  </tbody>\n",
       "</table>\n",
       "</div>"
      ],
      "text/plain": [
       "                                               image  label\n",
       "0  {'bytes': b'\\x89PNG\\r\\n\\x1a\\n\\x00\\x00\\x00\\rIHD...      5\n",
       "1  {'bytes': b'\\x89PNG\\r\\n\\x1a\\n\\x00\\x00\\x00\\rIHD...      0"
      ]
     },
     "execution_count": 3,
     "metadata": {},
     "output_type": "execute_result"
    }
   ],
   "source": [
    "df.head(2)"
   ]
  },
  {
   "cell_type": "code",
   "execution_count": 4,
   "metadata": {},
   "outputs": [
    {
     "data": {
      "text/html": [
       "<div>\n",
       "<style scoped>\n",
       "    .dataframe tbody tr th:only-of-type {\n",
       "        vertical-align: middle;\n",
       "    }\n",
       "\n",
       "    .dataframe tbody tr th {\n",
       "        vertical-align: top;\n",
       "    }\n",
       "\n",
       "    .dataframe thead th {\n",
       "        text-align: right;\n",
       "    }\n",
       "</style>\n",
       "<table border=\"1\" class=\"dataframe\">\n",
       "  <thead>\n",
       "    <tr style=\"text-align: right;\">\n",
       "      <th></th>\n",
       "      <th>image</th>\n",
       "      <th>0</th>\n",
       "      <th>1</th>\n",
       "      <th>2</th>\n",
       "      <th>3</th>\n",
       "      <th>4</th>\n",
       "      <th>5</th>\n",
       "      <th>6</th>\n",
       "      <th>7</th>\n",
       "      <th>8</th>\n",
       "      <th>9</th>\n",
       "    </tr>\n",
       "  </thead>\n",
       "  <tbody>\n",
       "    <tr>\n",
       "      <th>0</th>\n",
       "      <td>{'bytes': b'\\x89PNG\\r\\n\\x1a\\n\\x00\\x00\\x00\\rIHD...</td>\n",
       "      <td>0</td>\n",
       "      <td>0</td>\n",
       "      <td>0</td>\n",
       "      <td>0</td>\n",
       "      <td>0</td>\n",
       "      <td>1</td>\n",
       "      <td>0</td>\n",
       "      <td>0</td>\n",
       "      <td>0</td>\n",
       "      <td>0</td>\n",
       "    </tr>\n",
       "    <tr>\n",
       "      <th>1</th>\n",
       "      <td>{'bytes': b'\\x89PNG\\r\\n\\x1a\\n\\x00\\x00\\x00\\rIHD...</td>\n",
       "      <td>1</td>\n",
       "      <td>0</td>\n",
       "      <td>0</td>\n",
       "      <td>0</td>\n",
       "      <td>0</td>\n",
       "      <td>0</td>\n",
       "      <td>0</td>\n",
       "      <td>0</td>\n",
       "      <td>0</td>\n",
       "      <td>0</td>\n",
       "    </tr>\n",
       "  </tbody>\n",
       "</table>\n",
       "</div>"
      ],
      "text/plain": [
       "                                               image  0  1  2  3  4  5  6  7  \\\n",
       "0  {'bytes': b'\\x89PNG\\r\\n\\x1a\\n\\x00\\x00\\x00\\rIHD...  0  0  0  0  0  1  0  0   \n",
       "1  {'bytes': b'\\x89PNG\\r\\n\\x1a\\n\\x00\\x00\\x00\\rIHD...  1  0  0  0  0  0  0  0   \n",
       "\n",
       "   8  9  \n",
       "0  0  0  \n",
       "1  0  0  "
      ]
     },
     "execution_count": 4,
     "metadata": {},
     "output_type": "execute_result"
    }
   ],
   "source": [
    "to_int = lambda x: 1 if x else 0\n",
    "one_hot = pd.get_dummies(df['label']).map(to_int)\n",
    "\n",
    "df = df.drop(columns='label').join(one_hot)\n",
    "\n",
    "df.head(2)"
   ]
  },
  {
   "cell_type": "code",
   "execution_count": 5,
   "metadata": {},
   "outputs": [],
   "source": [
    "class DataSet:\n",
    "    def __init__(self, df:pd.DataFrame, batch_size=32, shuffle=True, img_shape=(28,28), transform=None):\n",
    "        self.df = df\n",
    "        self.labels = df.columns.drop('image')\n",
    "        self.batch_size = batch_size\n",
    "        self.shuffle = shuffle\n",
    "        self.num_samples = len(df)\n",
    "        self.indices = np.arange(self.num_samples)\n",
    "        self.current_idx = 0  # Keeps track of batch index\n",
    "        self.img_shape = img_shape\n",
    "        self.transform = transform\n",
    "\n",
    "        if self.shuffle:\n",
    "            np.random.shuffle(self.indices)  # Shuffle data at the start\n",
    "\n",
    "    def __iter__(self):\n",
    "        self.current_idx = 0\n",
    "        if self.shuffle:\n",
    "            np.random.shuffle(self.indices)\n",
    "        return self\n",
    "    \n",
    "    def __len__(self):\n",
    "        n = self.num_samples//self.batch_size\n",
    "        if self.num_samples%self.batch_size != 0:\n",
    "            n+=1\n",
    "        return n\n",
    "\n",
    "    def __next__(self) -> tuple[Tensor, Tensor]:\n",
    "        if self.current_idx >= self.num_samples:\n",
    "            raise StopIteration  # Stop when all batches are processed\n",
    "\n",
    "        if self.current_idx + self.batch_size < self.num_samples:\n",
    "            next_idx = self.current_idx + self.batch_size\n",
    "        else:\n",
    "            next_idx = self.num_samples\n",
    "        # Get batch indices\n",
    "        batch_indices = self.indices[self.current_idx: next_idx]\n",
    "        \n",
    "        # Slice data for the batch\n",
    "        X_batch = np.zeros((len(batch_indices), self.img_shape[0]*self.img_shape[1]))\n",
    "        for i, b in enumerate(batch_indices):\n",
    "            img = Image.open(io.BytesIO(self.df.iloc[b].image['bytes']))\n",
    "            X_batch[i,:] = np.array(img, dtype=np.float32).flatten()/256\n",
    "        if self.transform != None:\n",
    "            X_batch = self.transform(X_batch)\n",
    "        y_batch = self.df[self.labels].iloc[batch_indices].to_numpy(dtype=np.float32)\n",
    "\n",
    "        # Move to the next batch\n",
    "        self.current_idx = next_idx\n",
    "        \n",
    "        return Tensor(X_batch), Tensor(y_batch)"
   ]
  },
  {
   "cell_type": "markdown",
   "metadata": {},
   "source": [
    "Split into train, test and validation set"
   ]
  },
  {
   "cell_type": "code",
   "execution_count": 6,
   "metadata": {},
   "outputs": [],
   "source": [
    "# add some random noise in the training to help stabilizing net and avoid overfitting\n",
    "def train_transf(x):\n",
    "    return x + np.random.randn(*x.shape)*0.1\n",
    "\n",
    "n_samples = len(df)\n",
    "\n",
    "n_train = int(0.75*n_samples)\n",
    "n_test = int( (n_samples-n_train)*0.7 )\n",
    "n_val = n_samples-n_train-n_test\n",
    "\n",
    "df_train = df[:n_train]\n",
    "df_test = df[n_train: n_train+n_test]\n",
    "df_val = df[n_train+n_test: n_train+n_test+n_val]\n",
    "\n",
    "train_set = DataSet(df_train, transform=train_transf)\n",
    "test_set = DataSet(df_test)\n",
    "val_set = DataSet(df_val)"
   ]
  },
  {
   "cell_type": "markdown",
   "metadata": {},
   "source": [
    "Set up the neural network"
   ]
  },
  {
   "cell_type": "code",
   "execution_count": 7,
   "metadata": {},
   "outputs": [],
   "source": [
    "num_epochs = 10\n",
    "lr = 1e-3\n",
    "loss = CrossEntropyLoss()\n",
    "in_dim = 28*28\n",
    "out_dim = len( train_set.labels )\n",
    "\n",
    "nn = ANN(loss, weight_decay=1E-4)\n",
    "nn.layers.extend([\n",
    "    NeuralLayer(in_dim, 256),\n",
    "    Relu(),\n",
    "    NeuralLayer(256, 128),\n",
    "    Relu(),\n",
    "    NeuralLayer(128, 64),\n",
    "    Relu(),\n",
    "    NeuralLayer(64, out_dim),\n",
    "]\n",
    ")"
   ]
  },
  {
   "cell_type": "code",
   "execution_count": 8,
   "metadata": {},
   "outputs": [],
   "source": [
    "def accuracy(logits, y):\n",
    "    sigma = Sigmoid()\n",
    "    probs = sigma(logits)\n",
    "    predictions = np.argmax(probs, axis=-1)\n",
    "    reals = np.argmax(y, axis=-1)\n",
    "    correct = 0\n",
    "    for i in range(reals.shape[0]):\n",
    "        if reals[i] == predictions[i]:\n",
    "            correct += 1\n",
    "    return correct"
   ]
  },
  {
   "cell_type": "markdown",
   "metadata": {},
   "source": [
    "### Train"
   ]
  },
  {
   "cell_type": "code",
   "execution_count": 9,
   "metadata": {},
   "outputs": [
    {
     "name": "stderr",
     "output_type": "stream",
     "text": [
      "100%|██████████| 1407/1407 [00:09<00:00, 143.25it/s]\n",
      "100%|██████████| 329/329 [00:01<00:00, 308.89it/s]\n"
     ]
    },
    {
     "name": "stdout",
     "output_type": "stream",
     "text": [
      "epoch  1 \t train: 0.821\t test: 0.399 \t accuracy 87.971%\n"
     ]
    },
    {
     "name": "stderr",
     "output_type": "stream",
     "text": [
      "100%|██████████| 1407/1407 [00:08<00:00, 168.32it/s]\n",
      "100%|██████████| 329/329 [00:00<00:00, 344.35it/s]\n"
     ]
    },
    {
     "name": "stdout",
     "output_type": "stream",
     "text": [
      "epoch  2 \t train: 0.379\t test: 0.310 \t accuracy 90.629%\n"
     ]
    },
    {
     "name": "stderr",
     "output_type": "stream",
     "text": [
      "100%|██████████| 1407/1407 [00:08<00:00, 168.38it/s]\n",
      "100%|██████████| 329/329 [00:00<00:00, 356.61it/s]\n"
     ]
    },
    {
     "name": "stdout",
     "output_type": "stream",
     "text": [
      "epoch  3 \t train: 0.301\t test: 0.260 \t accuracy 92.210%\n"
     ]
    },
    {
     "name": "stderr",
     "output_type": "stream",
     "text": [
      "100%|██████████| 1407/1407 [00:09<00:00, 144.17it/s]\n",
      "100%|██████████| 329/329 [00:01<00:00, 291.81it/s]\n"
     ]
    },
    {
     "name": "stdout",
     "output_type": "stream",
     "text": [
      "epoch  4 \t train: 0.258\t test: 0.235 \t accuracy 93.095%\n"
     ]
    },
    {
     "name": "stderr",
     "output_type": "stream",
     "text": [
      "100%|██████████| 1407/1407 [00:09<00:00, 141.18it/s]\n",
      "100%|██████████| 329/329 [00:01<00:00, 319.48it/s]\n"
     ]
    },
    {
     "name": "stdout",
     "output_type": "stream",
     "text": [
      "epoch  5 \t train: 0.232\t test: 0.225 \t accuracy 93.352%\n"
     ]
    },
    {
     "name": "stderr",
     "output_type": "stream",
     "text": [
      "100%|██████████| 1407/1407 [00:08<00:00, 157.38it/s]\n",
      "100%|██████████| 329/329 [00:00<00:00, 334.76it/s]\n"
     ]
    },
    {
     "name": "stdout",
     "output_type": "stream",
     "text": [
      "epoch  6 \t train: 0.213\t test: 0.213 \t accuracy 93.619%\n"
     ]
    },
    {
     "name": "stderr",
     "output_type": "stream",
     "text": [
      "100%|██████████| 1407/1407 [00:08<00:00, 159.64it/s]\n",
      "100%|██████████| 329/329 [00:00<00:00, 329.45it/s]\n"
     ]
    },
    {
     "name": "stdout",
     "output_type": "stream",
     "text": [
      "epoch  7 \t train: 0.196\t test: 0.196 \t accuracy 94.248%\n"
     ]
    },
    {
     "name": "stderr",
     "output_type": "stream",
     "text": [
      "100%|██████████| 1407/1407 [00:08<00:00, 157.28it/s]\n",
      "100%|██████████| 329/329 [00:00<00:00, 350.49it/s]\n"
     ]
    },
    {
     "name": "stdout",
     "output_type": "stream",
     "text": [
      "epoch  8 \t train: 0.183\t test: 0.192 \t accuracy 94.238%\n"
     ]
    },
    {
     "name": "stderr",
     "output_type": "stream",
     "text": [
      "100%|██████████| 1407/1407 [00:08<00:00, 164.52it/s]\n",
      "100%|██████████| 329/329 [00:00<00:00, 341.61it/s]\n"
     ]
    },
    {
     "name": "stdout",
     "output_type": "stream",
     "text": [
      "epoch  9 \t train: 0.174\t test: 0.187 \t accuracy 94.267%\n"
     ]
    },
    {
     "name": "stderr",
     "output_type": "stream",
     "text": [
      "100%|██████████| 1407/1407 [00:08<00:00, 172.45it/s]\n",
      "100%|██████████| 329/329 [00:00<00:00, 355.29it/s]"
     ]
    },
    {
     "name": "stdout",
     "output_type": "stream",
     "text": [
      "epoch 10 \t train: 0.163\t test: 0.179 \t accuracy 94.657%\n"
     ]
    },
    {
     "name": "stderr",
     "output_type": "stream",
     "text": [
      "\n"
     ]
    }
   ],
   "source": [
    "train_losses, test_losses, test_accuracies = [], [], []\n",
    "best_test_loss = float('inf')\n",
    "best_model = copy.deepcopy(nn)\n",
    "for epoch in range(num_epochs):\n",
    "    train_loss, test_loss, test_accuracy = 0,0,0\n",
    "    # train\n",
    "    nn.train = True\n",
    "    for i,data in enumerate(tqdm(train_set)):\n",
    "        nn.zero_grads()\n",
    "        x, y = data\n",
    "        y_hat = nn(x)\n",
    "        train_loss += nn.get_loss(y_hat, y)\n",
    "        nn.backward()\n",
    "        nn.step(lr)\n",
    "    train_losses.append(train_loss/len(train_set))\n",
    "    \n",
    "    nn.train = False\n",
    "    for i,data in enumerate(tqdm(test_set)):\n",
    "        x, y = data\n",
    "        y_hat = nn(x)\n",
    "        test_accuracy += accuracy(y_hat, y)\n",
    "        test_loss += nn.get_loss(y_hat, y)\n",
    "    test_losses.append(test_loss/len(test_set))\n",
    "    test_accuracies.append( test_accuracy/test_set.num_samples )\n",
    "\n",
    "    print(f\"epoch {epoch+1:2.0f} \\t train: {train_losses[-1]:3.3f}\\t test: {test_losses[-1]:3.3f} \\t accuracy {100*test_accuracies[-1]:3.3f}%\")\n",
    "\n",
    "    # save best model\n",
    "    if test_losses[-1] < best_test_loss:\n",
    "        best_test_loss = test_losses[-1]\n",
    "        best_model = copy.deepcopy(nn)"
   ]
  },
  {
   "cell_type": "code",
   "execution_count": 10,
   "metadata": {},
   "outputs": [
    {
     "data": {
      "image/png": "[encoded data removed]",
      "text/plain": [
       "<Figure size 640x480 with 1 Axes>"
      ]
     },
     "metadata": {},
     "output_type": "display_data"
    }
   ],
   "source": [
    "plt.plot(range(1,num_epochs+1), train_losses, label=\"Train\")\n",
    "plt.plot(range(1,num_epochs+1), test_losses, label=\"Test\")\n",
    "plt.xlabel('Num. epochs')\n",
    "plt.ylabel('CE loss')\n",
    "plt.legend()\n",
    "plt.show()"
   ]
  },
  {
   "cell_type": "markdown",
   "metadata": {},
   "source": [
    "### Validation"
   ]
  },
  {
   "cell_type": "code",
   "execution_count": 11,
   "metadata": {},
   "outputs": [
    {
     "name": "stdout",
     "output_type": "stream",
     "text": [
      "accurcay on validation set 96.622%\n"
     ]
    }
   ],
   "source": [
    "best_model.train = False\n",
    "val_accuracy = 0\n",
    "for batch in val_set:\n",
    "    i += 1\n",
    "    x, y = batch\n",
    "    y_hat = best_model(x)\n",
    "    val_accuracy += accuracy(y_hat, y)\n",
    "print(f\"accurcay on validation set {100* (val_accuracy/val_set.num_samples) :3.3f}%\")"
   ]
  },
  {
   "cell_type": "code",
   "execution_count": 12,
   "metadata": {},
   "outputs": [
    {
     "data": {
      "image/png": "[encoded data removed]",
      "text/plain": [
       "<Figure size 1500x500 with 16 Axes>"
      ]
     },
     "metadata": {},
     "output_type": "display_data"
    }
   ],
   "source": [
    "_, axs = plt.subplots(2, 8, figsize=(15, 5))\n",
    "\n",
    "val_set.current_idx = 1\n",
    "batch = next(val_set)\n",
    "x, y = batch\n",
    "logits = best_model(x)\n",
    "\n",
    "# predict class\n",
    "sigma = Sigmoid()\n",
    "probs = sigma(logits)\n",
    "predictions = np.argmax(probs, axis=-1)\n",
    "\n",
    "axs = axs.flatten()\n",
    "for i, ax in enumerate(axs):\n",
    "    ax.imshow(x[i].reshape(28,28))\n",
    "    ax.title.set_text(f'Predicted {predictions[i]}')\n"
   ]
  },
  {
   "cell_type": "code",
   "execution_count": null,
   "metadata": {},
   "outputs": [],
   "source": []
  }
 ],
 "metadata": {
  "kernelspec": {
   "display_name": "py312",
   "language": "python",
   "name": "python3"
  },
  "language_info": {
   "codemirror_mode": {
    "name": "ipython",
    "version": 3
   },
   "file_extension": ".py",
   "mimetype": "text/x-python",
   "name": "python",
   "nbconvert_exporter": "python",
   "pygments_lexer": "ipython3",
   "version": "3.11.9"
  }
 },
 "nbformat": 4,
 "nbformat_minor": 2
}
