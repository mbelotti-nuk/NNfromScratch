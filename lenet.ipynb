{
 "cells": [
  {
   "cell_type": "code",
   "execution_count": 1,
   "metadata": {},
   "outputs": [],
   "source": [
    "import numpy as np\n",
    "import pandas as pd\n",
    "from neural_net.loss import CrossEntropyLoss\n",
    "from neural_net.modules import ConvolutionalLayer, AvgPool, NeuralLayer, Dropout\n",
    "from neural_net.activations import Relu, Sigmoid, Flatten\n",
    "from neural_net.networks import ANN\n",
    "from neural_net.base import Tensor\n",
    "from PIL import Image\n",
    "import io\n",
    "import matplotlib.pyplot as plt\n",
    "import copy\n",
    "from tqdm import tqdm"
   ]
  },
  {
   "cell_type": "code",
   "execution_count": 2,
   "metadata": {},
   "outputs": [],
   "source": [
    "splits = {'train': 'mnist/train-00000-of-00001.parquet', 'test': 'mnist/test-00000-of-00001.parquet'}\n",
    "df = pd.read_parquet(\"hf://datasets/ylecun/mnist/\" + splits[\"train\"])"
   ]
  },
  {
   "cell_type": "code",
   "execution_count": null,
   "metadata": {},
   "outputs": [],
   "source": [
    "df.head(2)"
   ]
  },
  {
   "cell_type": "code",
   "execution_count": null,
   "metadata": {},
   "outputs": [],
   "source": [
    "to_int = lambda x: 1 if x else 0\n",
    "one_hot = pd.get_dummies(df['label']).map(to_int)\n",
    "\n",
    "df = df.drop(columns='label').join(one_hot)\n",
    "\n",
    "df.head(2)"
   ]
  },
  {
   "cell_type": "code",
   "execution_count": 5,
   "metadata": {},
   "outputs": [],
   "source": [
    "df = df.iloc[:10_000]"
   ]
  },
  {
   "cell_type": "code",
   "execution_count": 6,
   "metadata": {},
   "outputs": [],
   "source": [
    "class DataSet:\n",
    "    def __init__(self, df:pd.DataFrame, batch_size=32, shuffle=True, img_shape=(28,28), transform=None):\n",
    "        self.df = df\n",
    "        self.labels = df.columns.drop('image')\n",
    "        self.batch_size = batch_size\n",
    "        self.shuffle = shuffle\n",
    "        self.num_samples = len(df)\n",
    "        self.indices = np.arange(self.num_samples)\n",
    "        self.current_idx = 0  # Keeps track of batch index\n",
    "        self.img_shape = img_shape\n",
    "        self.transform = transform\n",
    "\n",
    "        if self.shuffle:\n",
    "            np.random.shuffle(self.indices)  # Shuffle data at the start\n",
    "\n",
    "    def __iter__(self):\n",
    "        self.current_idx = 0\n",
    "        if self.shuffle:\n",
    "            np.random.shuffle(self.indices)\n",
    "        return self\n",
    "    \n",
    "    def __len__(self):\n",
    "        n = self.num_samples//self.batch_size\n",
    "        if self.num_samples%self.batch_size != 0:\n",
    "            n+=1\n",
    "        return n\n",
    "\n",
    "    def __next__(self) -> tuple[Tensor, Tensor]:\n",
    "        if self.current_idx >= self.num_samples:\n",
    "            raise StopIteration  # Stop when all batches are processed\n",
    "\n",
    "        if self.current_idx + self.batch_size < self.num_samples:\n",
    "            next_idx = self.current_idx + self.batch_size\n",
    "        else:\n",
    "            next_idx = self.num_samples\n",
    "        # Get batch indices\n",
    "        batch_indices = self.indices[self.current_idx: next_idx]\n",
    "        \n",
    "        # Slice data for the batch\n",
    "        X_batch = np.zeros((len(batch_indices), 1, self.img_shape[0], self.img_shape[1]))\n",
    "        for i, b in enumerate(batch_indices):\n",
    "            img = Image.open(io.BytesIO(self.df.iloc[b].image['bytes']))\n",
    "            X_batch[i,0,:] = np.array(img, dtype=np.float32)/256\n",
    "        if self.transform != None:\n",
    "            X_batch = self.transform(X_batch)\n",
    "        y_batch = self.df[self.labels].iloc[batch_indices].to_numpy(dtype=np.float32)\n",
    "\n",
    "        # Move to the next batch\n",
    "        self.current_idx = next_idx\n",
    "        \n",
    "        return Tensor(X_batch), Tensor(y_batch)"
   ]
  },
  {
   "cell_type": "markdown",
   "metadata": {},
   "source": [
    "Split into train, test and validation set"
   ]
  },
  {
   "cell_type": "code",
   "execution_count": 7,
   "metadata": {},
   "outputs": [],
   "source": [
    "# add some random noise in the training to help stabilizing net and avoid overfitting\n",
    "def train_transf(x):\n",
    "    return x + np.random.randn(*x.shape)*0.1\n",
    "\n",
    "batch_size = 16\n",
    "n_samples = len(df)\n",
    "\n",
    "n_train = int(0.8*n_samples)\n",
    "n_test = int( (n_samples-n_train)*0.7 )\n",
    "n_val = n_samples-n_train-n_test\n",
    "\n",
    "df_train = df[:n_train]\n",
    "df_test = df[n_train: n_train+n_test]\n",
    "df_val = df[n_train+n_test: n_train+n_test+n_val]\n",
    "\n",
    "train_set = DataSet(df_train, batch_size=batch_size, transform=train_transf)\n",
    "test_set = DataSet(df_test, batch_size=batch_size)\n",
    "val_set = DataSet(df_val, batch_size=batch_size)"
   ]
  },
  {
   "cell_type": "markdown",
   "metadata": {},
   "source": [
    "Set up the neural network"
   ]
  },
  {
   "cell_type": "code",
   "execution_count": 8,
   "metadata": {},
   "outputs": [],
   "source": [
    "num_epochs = 50\n",
    "lr = 1e-3\n",
    "loss = CrossEntropyLoss()\n",
    "out_dim = len( train_set.labels )\n",
    "\n",
    "nn = ANN(loss, weight_decay=1E-3)\n",
    "\n",
    "nn.layers.extend([\n",
    "    ConvolutionalLayer(in_ch=1, out_ch=6, k_size=(5,5), padding=(2,2), stride=(2,2)),\n",
    "    Relu(),\n",
    "    ConvolutionalLayer(in_ch=6, out_ch=16, k_size=(5,5), padding=(0,0)),\n",
    "    Relu(),\n",
    "    ConvolutionalLayer(in_ch=16, out_ch=16, k_size=(5,5), padding=(2,2), stride=(2,2)),\n",
    "    Relu(),\n",
    "    Flatten(),\n",
    "    NeuralLayer(in_dim=400, out_dim=120),\n",
    "    #Dropout(0.1),\n",
    "    Relu(),\n",
    "    NeuralLayer(in_dim=120, out_dim=64),\n",
    "    #Dropout(0.1),\n",
    "    Relu(),\n",
    "    NeuralLayer(in_dim=64, out_dim=out_dim),\n",
    "]\n",
    ")\n",
    "\n",
    "# nn.layers.extend([\n",
    "#     ConvolutionalLayer(in_ch=1, out_ch=6, k_size=(5,5), padding=(2,2)),\n",
    "#     Relu(),\n",
    "#     AvgPool(k_size=(2,2), stride=(2,2)),\n",
    "#     ConvolutionalLayer(in_ch=6, out_ch=16, k_size=(5,5), padding=(0,0)),\n",
    "#     Relu(),\n",
    "#     AvgPool(k_size=(2,2), stride=(2,2)),\n",
    "#     Flatten(),\n",
    "#     NeuralLayer(in_dim=400, out_dim=120),\n",
    "#     #Dropout(0.1),\n",
    "#     Relu(),\n",
    "#     NeuralLayer(in_dim=120, out_dim=64),\n",
    "#     #Dropout(0.1),\n",
    "#     Relu(),\n",
    "#     NeuralLayer(in_dim=64, out_dim=out_dim),\n",
    "# ]\n",
    "# )"
   ]
  },
  {
   "cell_type": "code",
   "execution_count": 9,
   "metadata": {},
   "outputs": [],
   "source": [
    "def accuracy(logits, y):\n",
    "    sigma = Sigmoid()\n",
    "    probs = sigma(logits)\n",
    "    predictions = np.argmax(probs, axis=-1)\n",
    "    reals = np.argmax(y, axis=-1)\n",
    "    correct = 0\n",
    "    for i in range(reals.shape[0]):\n",
    "        if reals[i] == predictions[i]:\n",
    "            correct += 1\n",
    "    return correct"
   ]
  },
  {
   "cell_type": "markdown",
   "metadata": {},
   "source": [
    "### Train"
   ]
  },
  {
   "cell_type": "code",
   "execution_count": null,
   "metadata": {},
   "outputs": [],
   "source": [
    "train_losses, test_losses, test_accuracies = [], [], []\n",
    "best_test_loss = float('inf')\n",
    "best_model = copy.deepcopy(nn)\n",
    "for epoch in range(num_epochs):\n",
    "    train_loss, test_loss, test_accuracy = 0,0,0\n",
    "    # train\n",
    "    nn.train = True\n",
    "    for i,data in enumerate(tqdm(train_set)):\n",
    "        nn.zero_grads()\n",
    "        x, y = data\n",
    "        y_hat = nn(x)\n",
    "        train_loss += nn.get_loss(y_hat, y)\n",
    "        nn.backward()\n",
    "\n",
    "    train_losses.append(train_loss/len(train_set))\n",
    "    \n",
    "    nn.train = False\n",
    "    for i,data in enumerate(tqdm(test_set)):\n",
    "        x, y = data\n",
    "        y_hat = nn(x)\n",
    "        test_accuracy += accuracy(y_hat, y)\n",
    "        test_loss += nn.get_loss(y_hat, y)\n",
    "    test_losses.append(test_loss/len(test_set))\n",
    "    test_accuracies.append( test_accuracy/test_set.num_samples )\n",
    "\n",
    "    print(f\"epoch {epoch+1:2.0f} \\t train: {train_losses[-1]:3.3f}\\t test: {test_losses[-1]:3.3f} \\t accuracy {100*test_accuracies[-1]:3.3f}%\")\n",
    "\n",
    "    # save best model\n",
    "    if test_losses[-1] < best_test_loss:\n",
    "        best_test_loss = test_losses[-1]\n",
    "        best_model = copy.deepcopy(nn)"
   ]
  },
  {
   "cell_type": "code",
   "execution_count": null,
   "metadata": {},
   "outputs": [],
   "source": [
    "plt.plot(range(1,num_epochs+1), train_losses, label=\"Train\")\n",
    "plt.plot(range(1,num_epochs+1), test_losses, label=\"Test\")\n",
    "plt.xlabel('Num. epochs')\n",
    "plt.ylabel('CE loss')\n",
    "plt.legend()\n",
    "plt.show()"
   ]
  },
  {
   "cell_type": "markdown",
   "metadata": {},
   "source": [
    "### Validation"
   ]
  },
  {
   "cell_type": "code",
   "execution_count": null,
   "metadata": {},
   "outputs": [],
   "source": [
    "best_model.train = False\n",
    "val_accuracy = 0\n",
    "for batch in val_set:\n",
    "    i += 1\n",
    "    x, y = batch\n",
    "    y_hat = best_model(x)\n",
    "    val_accuracy += accuracy(y_hat, y)\n",
    "print(f\"accurcay on validation set {100* (val_accuracy/val_set.num_samples) :3.3f}%\")"
   ]
  },
  {
   "cell_type": "code",
   "execution_count": null,
   "metadata": {},
   "outputs": [],
   "source": [
    "_, axs = plt.subplots(2, 8, figsize=(15, 5))\n",
    "\n",
    "val_set.current_idx = 1\n",
    "batch = next(val_set)\n",
    "x, y = batch\n",
    "logits = best_model(x)\n",
    "\n",
    "# predict class\n",
    "sigma = Sigmoid()\n",
    "probs = sigma(logits)\n",
    "predictions = np.argmax(probs, axis=-1)\n",
    "\n",
    "axs = axs.flatten()\n",
    "for i, ax in enumerate(axs):\n",
    "    ax.imshow(x[i].reshape(28,28))\n",
    "    ax.title.set_text(f'Predicted {predictions[i]}')\n"
   ]
  },
  {
   "cell_type": "code",
   "execution_count": null,
   "metadata": {},
   "outputs": [],
   "source": []
  }
 ],
 "metadata": {
  "kernelspec": {
   "display_name": "py312",
   "language": "python",
   "name": "python3"
  },
  "language_info": {
   "codemirror_mode": {
    "name": "ipython",
    "version": 3
   },
   "file_extension": ".py",
   "mimetype": "text/x-python",
   "name": "python",
   "nbconvert_exporter": "python",
   "pygments_lexer": "ipython3",
   "version": "3.11.9"
  }
 },
 "nbformat": 4,
 "nbformat_minor": 2
}
